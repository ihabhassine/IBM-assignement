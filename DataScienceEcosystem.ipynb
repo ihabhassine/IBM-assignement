{
 "cells": [
  {
   "cell_type": "markdown",
   "id": "45217d1c-6b9d-47e5-a803-edd31c8fffbe",
   "metadata": {},
   "source": [
    "# Data Science Tools and Ecosystem"
   ]
  },
  {
   "cell_type": "markdown",
   "id": "36889760-ce0d-418d-953e-6881054920a5",
   "metadata": {},
   "source": [
    "# In this notebook, Data Science Tools and Ecosystem are summarized."
   ]
  },
  {
   "cell_type": "markdown",
   "id": "f2d7a677-62d3-4aa8-ab66-d5532ca86c1e",
   "metadata": {},
   "source": [
    "**Objectives:**\r\n",
    "\r\n",
    "- List popular languages for Data Science\r\n",
    "- List commonly used libraries in Data Science\r\n",
    "- Show examples of basic arithmetic operations in Python\r\n",
    "- Provide an overview of Data Science tools\r\n"
   ]
  },
  {
   "cell_type": "markdown",
   "id": "cfae3a67-3689-46a4-9afd-1360b3969e30",
   "metadata": {},
   "source": [
    "# Some of the popular languages that Data Scientists use are:"
   ]
  },
  {
   "cell_type": "markdown",
   "id": "9571c179-6d9e-4b76-9ab2-78d67eb4fb6e",
   "metadata": {},
   "source": [
    "# 1- R\n",
    "# 2- Python\n",
    "# 3- SQL"
   ]
  },
  {
   "cell_type": "markdown",
   "id": "be00e008-5983-4f04-8d27-03f6c612dc6e",
   "metadata": {},
   "source": [
    "# Some of the commonly used libraries used by Data Scientists include:"
   ]
  },
  {
   "cell_type": "markdown",
   "id": "19a371e3-7cd4-4aa5-b12a-32d9e16a1039",
   "metadata": {},
   "source": [
    "# 1- Numpy\n",
    "# 2- Pandas\n",
    "# 3- Matplotlib"
   ]
  },
  {
   "cell_type": "markdown",
   "id": "13a34a2c-c49c-49e4-9a60-6d71121bb59c",
   "metadata": {},
   "source": [
    "| Data Science Tools |\r\n",
    "|--------------------|\r\n",
    "| Jupyter Notebook   |\r\n",
    "| RStudio            |\r\n",
    "| Apache Zeppelin    |\r\n"
   ]
  },
  {
   "cell_type": "markdown",
   "id": "e9bf74d5-ceb5-4de0-893a-efbcdcaf92c1",
   "metadata": {},
   "source": [
    "### Below are a few examples of evaluating arithmetic expressions in Python\r\n"
   ]
  },
  {
   "cell_type": "code",
   "execution_count": 24,
   "id": "c8ed8ef9-92f8-4c95-8331-a95b056d4937",
   "metadata": {},
   "outputs": [
    {
     "data": {
      "text/plain": [
       "17"
      ]
     },
     "execution_count": 24,
     "metadata": {},
     "output_type": "execute_result"
    }
   ],
   "source": [
    "# This is a simple arithmetic expression to multiply then add integers\n",
    "(3 * 4) + 5\n"
   ]
  },
  {
   "cell_type": "code",
   "execution_count": 26,
   "id": "486987ba-74c6-4955-af33-575be3c679d0",
   "metadata": {},
   "outputs": [
    {
     "data": {
      "text/plain": [
       "3.3333333333333335"
      ]
     },
     "execution_count": 26,
     "metadata": {},
     "output_type": "execute_result"
    }
   ],
   "source": [
    "# This will convert 200 minutes to hours by dividing by 60\n",
    "200 / 60\n"
   ]
  },
  {
   "cell_type": "markdown",
   "id": "30f63400-d24f-446a-b6f1-144486eaf447",
   "metadata": {},
   "source": [
    "## Author\n",
    "Ihab Hassine\r\n"
   ]
  }
 ],
 "metadata": {
  "kernelspec": {
   "display_name": "Python 3 (ipykernel)",
   "language": "python",
   "name": "python3"
  },
  "language_info": {
   "codemirror_mode": {
    "name": "ipython",
    "version": 3
   },
   "file_extension": ".py",
   "mimetype": "text/x-python",
   "name": "python",
   "nbconvert_exporter": "python",
   "pygments_lexer": "ipython3",
   "version": "3.12.4"
  }
 },
 "nbformat": 4,
 "nbformat_minor": 5
}
